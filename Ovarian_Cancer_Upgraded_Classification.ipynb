{
 "cells": [
  {
   "cell_type": "markdown",
   "id": "ec3189ad",
   "metadata": {},
   "source": [
    "# 🧬 Ovarian Cancer Classification - Upgraded ML Pipeline\n",
    "\n",
    "This notebook uses real gene expression data to classify ovarian cancer using multiple ML models and evaluates them using accuracy, confusion matrix, and ROC-AUC."
   ]
  },
  {
   "cell_type": "code",
   "execution_count": null,
   "id": "abcb6621",
   "metadata": {},
   "outputs": [],
   "source": [
    "# 📦 Import Libraries\n",
    "import pandas as pd\n",
    "import numpy as np\n",
    "import matplotlib.pyplot as plt\n",
    "import seaborn as sns\n",
    "\n",
    "from sklearn.model_selection import train_test_split\n",
    "from sklearn.ensemble import RandomForestClassifier\n",
    "from sklearn.linear_model import LogisticRegression\n",
    "from sklearn.svm import SVC\n",
    "from sklearn.metrics import accuracy_score, classification_report, confusion_matrix, roc_curve, auc\n",
    "\n",
    "%matplotlib inline\n"
   ]
  },
  {
   "cell_type": "code",
   "execution_count": null,
   "id": "6c3682b0",
   "metadata": {},
   "outputs": [],
   "source": [
    "# 📂 Upload Dataset\n",
    "from google.colab import files\n",
    "uploaded = files.upload()\n",
    "\n",
    "import io\n",
    "df = pd.read_csv(io.BytesIO(uploaded['realistic_ovarian_gene_expression.csv']))\n",
    "df.head()\n"
   ]
  },
  {
   "cell_type": "code",
   "execution_count": null,
   "id": "76436caf",
   "metadata": {},
   "outputs": [],
   "source": [
    "# 📊 Class Distribution\n",
    "sns.countplot(data=df, x='Cancer')\n",
    "plt.title('Class Distribution (0=Normal, 1=Cancer)')\n",
    "plt.show()\n"
   ]
  },
  {
   "cell_type": "code",
   "execution_count": null,
   "id": "23326319",
   "metadata": {},
   "outputs": [],
   "source": [
    "# 🧪 Train/Test Split\n",
    "X = df.drop('Cancer', axis=1)\n",
    "y = df['Cancer']\n",
    "\n",
    "X_train, X_test, y_train, y_test = train_test_split(X, y, test_size=0.2, random_state=42)\n"
   ]
  },
  {
   "cell_type": "code",
   "execution_count": null,
   "id": "8cde53b9",
   "metadata": {},
   "outputs": [],
   "source": [
    "# 🌲 Random Forest\n",
    "rf_model = RandomForestClassifier(n_estimators=100, random_state=42)\n",
    "rf_model.fit(X_train, y_train)\n",
    "rf_pred = rf_model.predict(X_test)\n",
    "rf_proba = rf_model.predict_proba(X_test)[:, 1]\n",
    "\n",
    "print(\"Random Forest Accuracy:\", accuracy_score(y_test, rf_pred))\n",
    "print(classification_report(y_test, rf_pred))\n"
   ]
  },
  {
   "cell_type": "code",
   "execution_count": null,
   "id": "c93681b7",
   "metadata": {},
   "outputs": [],
   "source": [
    "# 🔁 Logistic Regression\n",
    "logreg_model = LogisticRegression(max_iter=1000)\n",
    "logreg_model.fit(X_train, y_train)\n",
    "logreg_pred = logreg_model.predict(X_test)\n",
    "logreg_proba = logreg_model.predict_proba(X_test)[:, 1]\n",
    "\n",
    "print(\"Logistic Regression Accuracy:\", accuracy_score(y_test, logreg_pred))\n",
    "print(classification_report(y_test, logreg_pred))\n"
   ]
  },
  {
   "cell_type": "code",
   "execution_count": null,
   "id": "d1c9779b",
   "metadata": {},
   "outputs": [],
   "source": [
    "# 💠 Support Vector Machine\n",
    "svm_model = SVC(kernel='linear', probability=True)\n",
    "svm_model.fit(X_train, y_train)\n",
    "svm_pred = svm_model.predict(X_test)\n",
    "svm_proba = svm_model.predict_proba(X_test)[:, 1]\n",
    "\n",
    "print(\"SVM Accuracy:\", accuracy_score(y_test, svm_pred))\n",
    "print(classification_report(y_test, svm_pred))\n"
   ]
  },
  {
   "cell_type": "code",
   "execution_count": null,
   "id": "94e87ba8",
   "metadata": {},
   "outputs": [],
   "source": [
    "# 📉 Confusion Matrix for Random Forest\n",
    "cm = confusion_matrix(y_test, rf_pred)\n",
    "sns.heatmap(cm, annot=True, fmt='d', cmap='Blues')\n",
    "plt.xlabel('Predicted')\n",
    "plt.ylabel('Actual')\n",
    "plt.title('Random Forest - Confusion Matrix')\n",
    "plt.show()\n"
   ]
  },
  {
   "cell_type": "code",
   "execution_count": null,
   "id": "1da34500",
   "metadata": {},
   "outputs": [],
   "source": [
    "# 📈 ROC Curves\n",
    "fpr_rf, tpr_rf, _ = roc_curve(y_test, rf_proba)\n",
    "fpr_lr, tpr_lr, _ = roc_curve(y_test, logreg_proba)\n",
    "fpr_svm, tpr_svm, _ = roc_curve(y_test, svm_proba)\n",
    "\n",
    "plt.figure(figsize=(8, 6))\n",
    "plt.plot(fpr_rf, tpr_rf, label='Random Forest (AUC = {:.2f})'.format(auc(fpr_rf, tpr_rf)))\n",
    "plt.plot(fpr_lr, tpr_lr, label='Logistic Regression (AUC = {:.2f})'.format(auc(fpr_lr, tpr_lr)))\n",
    "plt.plot(fpr_svm, tpr_svm, label='SVM (AUC = {:.2f})'.format(auc(fpr_svm, tpr_svm)))\n",
    "plt.plot([0, 1], [0, 1], 'k--')\n",
    "plt.xlabel('False Positive Rate')\n",
    "plt.ylabel('True Positive Rate')\n",
    "plt.title('ROC Curves')\n",
    "plt.legend()\n",
    "plt.show()\n"
   ]
  },
  {
   "cell_type": "code",
   "execution_count": null,
   "id": "aa0ec6f0",
   "metadata": {},
   "outputs": [],
   "source": [
    "# 🌟 Feature Importance (Random Forest)\n",
    "importances = rf_model.feature_importances_\n",
    "features = X.columns\n",
    "\n",
    "# Sort top 10 genes\n",
    "indices = np.argsort(importances)[-10:]\n",
    "plt.figure(figsize=(8, 6))\n",
    "sns.barplot(x=importances[indices], y=features[indices])\n",
    "plt.title('Top 10 Important Genes (Random Forest)')\n",
    "plt.xlabel('Importance')\n",
    "plt.ylabel('Gene')\n",
    "plt.show()\n"
   ]
  }
 ],
 "metadata": {},
 "nbformat": 4,
 "nbformat_minor": 5
}
